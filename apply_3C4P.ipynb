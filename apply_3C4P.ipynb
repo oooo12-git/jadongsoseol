{
 "cells": [
  {
   "cell_type": "code",
   "execution_count": 1,
   "metadata": {},
   "outputs": [],
   "source": [
    "import logging\n",
    "from dotenv import load_dotenv\n",
    "\n",
    "load_dotenv()\n",
    "\n",
    "logging.basicConfig(level=logging.DEBUG, format='%(asctime)s - %(levelname)s - %(message)s')\n",
    "logger = logging.getLogger(__name__)"
   ]
  },
  {
   "cell_type": "code",
   "execution_count": 2,
   "metadata": {},
   "outputs": [],
   "source": [
    "from langchain_openai import ChatOpenAI\n",
    "\n",
    "model = ChatOpenAI(model_name=\"gpt-4o-mini\",temperature=0)"
   ]
  },
  {
   "cell_type": "code",
   "execution_count": 3,
   "metadata": {},
   "outputs": [],
   "source": [
    "from langchain_core.prompts import ChatPromptTemplate, MessagesPlaceholder\n",
    "\n",
    "prompt_template = ChatPromptTemplate.from_messages(\n",
    "    [\n",
    "        (\"user\",\n",
    "         \"\"\"자기소개서 문항: {question}\n",
    "         위 문항에 대해 답변을 작성해 주세요.\n",
    "         \"\"\"),\n",
    "        MessagesPlaceholder(variable_name=\"messages\"),\n",
    "    ]\n",
    ")"
   ]
  },
  {
   "cell_type": "code",
   "execution_count": 4,
   "metadata": {},
   "outputs": [],
   "source": [
    "from typing import Sequence, Tuple, List\n",
    "import math\n",
    "from langchain_core.messages import BaseMessage\n",
    "from langgraph.graph.message import add_messages\n",
    "from typing_extensions import Annotated, TypedDict\n",
    "from langgraph.graph import START, StateGraph, END\n",
    "from langgraph.checkpoint.memory import MemorySaver\n",
    "\n",
    "class State(TypedDict):\n",
    "    index: int\n",
    "    messages: Annotated[Sequence[BaseMessage], add_messages]\n",
    "    question: str\n",
    "    max_length: int\n",
    "    lower_bound: int\n",
    "    additional_instruction: str\n",
    "    answer_length: int\n",
    "    prev_missing: int\n",
    "    prev_excess: int\n",
    "    resume_file_path: str\n",
    "    resume: str\n",
    "    JD_file_path: str\n",
    "    JD: str\n",
    "    company_name: str\n",
    "    company_description: str\n",
    "    job_title: str\n",
    "    company_news: List[str] # 회사소식은 실시간 뉴스 검색이 아닌, 직접 수집해서 데이터베이스에 저장하는 게 좋을 듯 혹은 새로운 채용공고가 나오면 그 때, 뉴스를 수집하는 방식이 좋을 듯. + 사용자가 직접 넣을 수 있도록 하는 방법 있음.\n",
    "\n",
    "workflow = StateGraph(state_schema=State)"
   ]
  },
  {
   "cell_type": "code",
   "execution_count": null,
   "metadata": {},
   "outputs": [],
   "source": [
    "def init_state(state: State):\n",
    "    lower_bound = math.ceil(state[\"max_length\"] * 0.995)\n",
    "\n",
    "    return {\"index\": 0,\"additional_instruction\": \"\", \"answer_length\": 0,\"lower_bound\": lower_bound, \"prev_missing\": None, \"prev_excess\": None}"
   ]
  }
 ],
 "metadata": {
  "kernelspec": {
   "display_name": "jadongsoseol-oEGlMSa4-py3.11",
   "language": "python",
   "name": "python3"
  },
  "language_info": {
   "codemirror_mode": {
    "name": "ipython",
    "version": 3
   },
   "file_extension": ".py",
   "mimetype": "text/x-python",
   "name": "python",
   "nbconvert_exporter": "python",
   "pygments_lexer": "ipython3",
   "version": "3.11.9"
  }
 },
 "nbformat": 4,
 "nbformat_minor": 2
}
