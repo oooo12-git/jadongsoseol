{
 "cells": [
  {
   "cell_type": "code",
   "execution_count": 1,
   "metadata": {},
   "outputs": [],
   "source": ["import logging\nfrom dotenv import load_dotenv\n\nload_dotenv()\n\nlogging.basicConfig(level=logging.DEBUG, format='%(asctime)s - %(levelname)s - %(message)s')\nlogger = logging.getLogger(__name__)"]
  },
  {
   "cell_type": "code",
   "execution_count": 2,
   "metadata": {},
   "outputs": [],
   "source": ["# 구글 시트 setting 시트의 마지막 행의 situation열(3열)에 저장된 문자열을 가져와서 situation에 할당.\nsituation = \"취업준비생인 Mr.foo는 {comapny}의 {job}직무에 지원하기 위해 자기소개서를 작성하려 합니다. 당신은 취업준비생인 foo를 위해 자기소개서를 작성할 것입니다. foo의 마스터 자기소개서를 기반으로 주어진 자기소개서 문항에 맞는 자기소개서를 작성하세요.\""]
  },
  {
   "cell_type": "code",
   "execution_count": 3,
   "metadata": {},
   "outputs": [],
   "source": ["# 구글 시트 info 시트의 마지막 행의 comany열(2열), job열(3열)에 저장된 문자열을 가져와서 company, job에 할당.\ncompany = \"KT스카이라이프\"\njob = \"IT\""]
  },
  {
   "cell_type": "code",
   "execution_count": 4,
   "metadata": {},
   "outputs": [],
   "source": ["situation=situation.format(comapny=company, job=job)"]
  },
  {
   "cell_type": "code",
   "execution_count": 5,
   "metadata": {},
   "outputs": [
    {
     "data": {
      "text/plain": [
       "'취업준비생인 Mr.foo는 KT스카이라이프의 IT직무에 지원하기 위해 자기소개서를 작성하려 합니다. 당신은 취업준비생인 foo를 위해 자기소개서를 작성할 것입니다. foo의 마스터 자기소개서를 기반으로 주어진 자기소개서 문항에 맞는 자기소개서를 작성하세요.'"
      ]
     },
     "execution_count": 5,
     "metadata": {},
     "output_type": "execute_result"
    }
   ],
   "source": ["situation"]
  },
  {
   "cell_type": "code",
   "execution_count": 6,
   "metadata": {},
   "outputs": [],
   "source": ["# 구글시트 prompt_structure 시트의 prompt_structure열(2열)에 저장된 문자열을 가져와서 prompt_structure에 할당.\nprompt_structure = \"\"\"{role}\n\n{situation}\n\n## Job posting : job_posting\n<job_posting>\n{job_posting}\n</job_posting>\n\n## 자기소개서 문항 : question\n<question>\n{question}\n</question>\n\n## foo의 핵심경험 : core_experience\n<core_experience>\n{core_experience}\n</core_experience>\n\n## 자기소개서 문항에 답하는 방법 : knowledge\n<knowledge>\n{knowledge}\n</knowledge>\n\n이제 자기소개서 문항에 한글로 답해주세요.\"\"\""]
  },
  {
   "cell_type": "code",
   "execution_count": 7,
   "metadata": {},
   "outputs": [],
   "source": ["# 구글시트의 setting 시트의 role열(2열)에 저장된 문자열을 가져와서 role에 할당.\nrole = \"당신은 10년 경력의 채용 컨설턴트이자 자기소개서 작성 전문가입니다. 포춘 500대 기업의 인사담당자로 일한 경험이 있으며, 수천 개의 자기소개서를 검토하고 합격/불합격을 결정한 경험이 있습니다. 또한 300명 이상의 취업 준비생들을 성공적으로 컨설팅한 이력이 있습니다.\"\n\n# 구글시트의 info 시트의 job_posting열(4열)에 저장된 문자열을 가져와서 job_posting에 할당.\njob_posting = \"\"\"### 수행업무\n•IT서비스 기획:운영, SW개발\n(AI·RPA 활용 자동화)\n• 정보 인프라(서버, 네트워크, 클라우드 등) 구축\n및 운영\n•콜 시스템(AICC, IVR 등) 개발 및 운영\n\n### 필수 요건/우대 사항\n• 전공 무관\n• IT 및 통신 관련 전공자 우대\"\"\"\n\n# 구글시트의 info 시트의 question열(6열)에 저장된 문자열을 가져와서 question에 할당.\nquestion = \"지원한 직무를 수행하기 위해 필요한 핵심역량은 무엇이라고 생각하며, 그 이유에 대해 설명해 주십시오. 또한 해당 역량을 갖추기 위해 본인이 어떤 노력을 하였는지 기술해 주십시오.\"\ncore_experience = \"\"\"[구글 서비스를 활용한 개발 간소화를 통해 합리적인 프로필 스튜디오 예약 10가지 프로세스 자동화]\n\n프로필 스튜디오는 예약 프로세스의 자동화를 필요로 했습니다. 고객 한 명이 예약을 완료하기까지 다양한 프로세스를 거쳐야 했고, 이러한 과정은 모두 수작업으로 진행되어 시간이 오래 걸렸습니다. 이로 인해 고객들에게 신속한 응대가 어려운 상황이었습니다.\n\n이를 해결하기 위해, 구글 폼과 구글 시트, 그리고 구글 앱스스크립트를 결합하여 프로세스를 자동화하였습니다. 구글 폼과 시트를 사용하면 폼과 데이터베이스(DB)를 따로 구축할 필요 없이 바로 연결할 수 있었습니다. 또한, 구글 시트를 관리자 페이지로 활용함으로써 추가적인 관리자 페이지 구축을 피하면서 개발 과정을 간소화하고 신속하게 자동화할 수 있었습니다. 그 결과, 동시에 비용 절감도 가능해졌습니다.\n\n이와 같은 자동화 결과로, 프로필 스튜디오는 가격 계산, 예약금 안내, 예약 확인, 사진 보정 안내 메일 등 총 10가지 프로세스를 자동화할 수 있었습니다. 한편, 구글 서비스 활용을 통해 개발 시간을 줄이고 고객에게 청구하는 비용을 합리적으로 조정하여 고객 만족도가 증가하였습니다. 구글 서비스를 활용한 방식을 통해 프로세스의 간소화와 비용 효율성을 모두 달성할 수 있었습니다.\"\"\"\n\n# 구글시트의 setting 시트의 knowledge열(4열)에 저장된 문자열을 가져와서 knowledge에 할당.\nknowledge = \"\"\"1. 지원자가 직무에 필요한 핵심역량을 가지고 있는지 인사담당자는 알고 싶습니다.  job_posting을 기반으로 예상한 직무에 필요한 핵심역량은 \"AI 활용 역량\", \"RPA(Robotic Process Automation) 역량\"입니다. \n2. core_experience에는 foo의 \"RPA(Robotic Process Automation) 역량\"이 드러납니다.\n3. 두괄식으로 답하기 위해 핵심역량을 강조할 수 있는 소제목을 자기소개서 앞쪽에 배치합니다.\n4. core_experience를 활용하여 질문에 맞게 자기소개서를 작성합니다.\"\"\""]
  },
  {
   "cell_type": "code",
   "execution_count": 8,
   "metadata": {},
   "outputs": [],
   "source": ["formatted_prompt = prompt_structure.format(role=role, situation=situation, job_posting=job_posting, question=question, core_experience=core_experience, knowledge=knowledge)"]
  },
  {
   "cell_type": "code",
   "execution_count": 9,
   "metadata": {},
   "outputs": [
    {
     "name": "stdout",
     "output_type": "stream",
     "text": [
      "당신은 10년 경력의 채용 컨설턴트이자 자기소개서 작성 전문가입니다. 포춘 500대 기업의 인사담당자로 일한 경험이 있으며, 수천 개의 자기소개서를 검토하고 합격/불합격을 결정한 경험이 있습니다. 또한 300명 이상의 취업 준비생들을 성공적으로 컨설팅한 이력이 있습니다.\n",
      "\n",
      "취업준비생인 Mr.foo는 KT스카이라이프의 IT직무에 지원하기 위해 자기소개서를 작성하려 합니다. 당신은 취업준비생인 foo를 위해 자기소개서를 작성할 것입니다. foo의 마스터 자기소개서를 기반으로 주어진 자기소개서 문항에 맞는 자기소개서를 작성하세요.\n",
      "\n",
      "## Job posting : job_posting\n",
      "<job_posting>\n",
      "### 수행업무\n",
      "•IT서비스 기획:운영, SW개발\n",
      "(AI·RPA 활용 자동화)\n",
      "• 정보 인프라(서버, 네트워크, 클라우드 등) 구축\n",
      "및 운영\n",
      "•콜 시스템(AICC, IVR 등) 개발 및 운영\n",
      "\n",
      "### 필수 요건/우대 사항\n",
      "• 전공 무관\n",
      "• IT 및 통신 관련 전공자 우대\n",
      "</job_posting>\n",
      "\n",
      "## 자기소개서 문항 : question\n",
      "<question>\n",
      "지원한 직무를 수행하기 위해 필요한 핵심역량은 무엇이라고 생각하며, 그 이유에 대해 설명해 주십시오. 또한 해당 역량을 갖추기 위해 본인이 어떤 노력을 하였는지 기술해 주십시오.\n",
      "</question>\n",
      "\n",
      "## foo의 핵심경험 : core_experience\n",
      "<core_experience>\n",
      "[구글 서비스를 활용한 개발 간소화를 통해 합리적인 프로필 스튜디오 예약 10가지 프로세스 자동화]\n",
      "\n",
      "프로필 스튜디오는 예약 프로세스의 자동화를 필요로 했습니다. 고객 한 명이 예약을 완료하기까지 다양한 프로세스를 거쳐야 했고, 이러한 과정은 모두 수작업으로 진행되어 시간이 오래 걸렸습니다. 이로 인해 고객들에게 신속한 응대가 어려운 상황이었습니다.\n",
      "\n",
      "이를 해결하기 위해, 구글 폼과 구글 시트, 그리고 구글 앱스스크립트를 결합하여 프로세스를 자동화하였습니다. 구글 폼과 시트를 사용하면 폼과 데이터베이스(DB)를 따로 구축할 필요 없이 바로 연결할 수 있었습니다. 또한, 구글 시트를 관리자 페이지로 활용함으로써 추가적인 관리자 페이지 구축을 피하면서 개발 과정을 간소화하고 신속하게 자동화할 수 있었습니다. 그 결과, 동시에 비용 절감도 가능해졌습니다.\n",
      "\n",
      "이와 같은 자동화 결과로, 프로필 스튜디오는 가격 계산, 예약금 안내, 예약 확인, 사진 보정 안내 메일 등 총 10가지 프로세스를 자동화할 수 있었습니다. 한편, 구글 서비스 활용을 통해 개발 시간을 줄이고 고객에게 청구하는 비용을 합리적으로 조정하여 고객 만족도가 증가하였습니다. 구글 서비스를 활용한 방식을 통해 프로세스의 간소화와 비용 효율성을 모두 달성할 수 있었습니다.\n",
      "</core_experience>\n",
      "\n",
      "## 자기소개서 문항에 답하는 방법 : knowledge\n",
      "<knowledge>\n",
      "1. 지원자가 직무에 필요한 핵심역량을 가지고 있는지 인사담당자는 알고 싶습니다.  job_posting을 기반으로 예상한 직무에 필요한 핵심역량은 \"AI 활용 역량\", \"RPA(Robotic Process Automation) 역량\"입니다. \n",
      "2. core_experience에는 foo의 \"RPA(Robotic Process Automation) 역량\"이 드러납니다.\n",
      "3. 두괄식으로 답하기 위해 핵심역량을 강조할 수 있는 소제목을 자기소개서 앞쪽에 배치합니다.\n",
      "4. core_experience를 활용하여 질문에 맞게 자기소개서를 작성합니다.\n",
      "</knowledge>\n",
      "\n",
      "이제 자기소개서 문항에 한글로 답해주세요.\n"
     ]
    }
   ],
   "source": ["print(formatted_prompt)"]
  },
  {
   "cell_type": "code",
   "execution_count": 10,
   "metadata": {},
   "outputs": [],
   "source": ["#formatted_prompt를 구글시트 evaluation sheet의 prompt열(2열) 두번째 행에 저장"]
  },
  {
   "cell_type": "code",
   "execution_count": 11,
   "metadata": {},
   "outputs": [],
   "source": ["# formatted_prompt를 openai에 전달하여 영어로 번역. 번역한 문자열을 prompt_english에 할당."]
  },
  {
   "cell_type": "code",
   "execution_count": 12,
   "metadata": {},
   "outputs": [],
   "source": ["#prompt_english를 구글시트 evaluation sheet의 prompt_english열(3열) 두번째 행에 저장."]
  },
  {
   "cell_type": "code",
   "execution_count": 13,
   "metadata": {},
   "outputs": [],
   "source": ["#prompt_english를 openai에 전달하여 자기소개서 작성. 작성된 자기소개서를 result에 할당."]
  },
  {
   "cell_type": "code",
   "execution_count": 14,
   "metadata": {},
   "outputs": [],
   "source": ["#result를 구글시트 evaluation sheet의 result열(4열) 두번째 행에 저장."]
  },
  {
   "cell_type": "code",
   "execution_count": 2,
   "metadata": {},
   "outputs": [],
   "source": ["# Google Sheets API 및 OpenAI API 필요한 라이브러리 import\nimport os\nfrom openai import OpenAI\n\nclient = OpenAI(api_key=os.getenv('OPENAI_API_KEY'))\nfrom google.oauth2.credentials import Credentials\nfrom googleapiclient.discovery import build\nfrom google.oauth2 import service_account"]
  },
  {
   "cell_type": "code",
   "execution_count": 3,
   "metadata": {},
   "outputs": [],
   "source": ["import os\nfrom dotenv import load_dotenv\n\nload_dotenv()\n\nSCOPES = ['https://www.googleapis.com/auth/spreadsheets']\nSERVICE_ACCOUNT_FILE = os.getenv('GOOGLE_SERVICE_ACCOUNT_FILE')\nSPREADSHEET_ID = os.getenv('SPREADSHEET_ID')"]
  },
  {
   "cell_type": "code",
   "execution_count": 4,
   "metadata": {},
   "outputs": [],
   "source": ["credentials = service_account.Credentials.from_service_account_file(\n    SERVICE_ACCOUNT_FILE, scopes=SCOPES)\nsheets_service = build('sheets', 'v4', credentials=credentials)"]
  },
  {
   "cell_type": "code",
   "execution_count": 5,
   "metadata": {},
   "outputs": [],
   "source": ["# OpenAI API 설정\n\ndef update_sheet(sheet_range, values):\n    \"\"\"구글 시트에 데이터를 업데이트하는 함수\"\"\"\n    logger.debug(f\"Updating sheet range: {sheet_range} with values: {values}\")\n    try:\n        body = {'values': [values]}\n        sheets_service.spreadsheets().values().update(\n            spreadsheetId=SPREADSHEET_ID,\n            range=sheet_range,\n            valueInputOption='RAW',\n            body=body\n        ).execute()\n        logger.info(f\"Successfully updated sheet range: {sheet_range}\")\n    except Exception as e:\n        logger.error(f\"Error updating sheet: {str(e)}\")\n        raise"]
  },
  {
   "cell_type": "code",
   "execution_count": null,
   "metadata": {},
   "outputs": [],
   "source": ["def translate_to_english(text):\n    \"\"\"OpenAI API를 사용하여 텍스트를 영어로 번역\"\"\"\n    logger.debug(\"Starting translation to English\")\n    try:\n        response = client.chat.completions.create(model=\"gpt-4o\",\n        messages=[\n            {\"role\": \"system\", \"content\": \"You are a professional translator.\"},\n            {\"role\": \"user\", \"content\": f\"Translate the following Korean text to English:\\n\\n{text}\"}\n        ])\n        translated_text = response.choices[0].message.content\n        logger.info(\"Translation completed successfully\")\n        return translated_text\n    except Exception as e:\n        logger.error(f\"Translation error: {str(e)}\")\n        raise"]
  },
  {
   "cell_type": "code",
   "execution_count": null,
   "metadata": {},
   "outputs": [],
   "source": ["\ndef generate_cover_letter(prompt):\n    \"\"\"OpenAI API를 사용하여 자기소개서 작성\"\"\"\n    logger.debug(\"Starting cover letter generation\")\n    try:\n        response = client.chat.completions.create(model=\"gpt-4\",\n        messages=[\n            {\"role\": \"user\", \"content\": prompt}\n        ])\n        cover_letter = response.choices[0].message.content\n        logger.info(\"Cover letter generated successfully\")\n        return cover_letter\n    except Exception as e:\n        logger.error(f\"Cover letter generation error: {str(e)}\")\n        raise\n\n# 구글 시트에 prompt 저장\nupdate_sheet('evaluation!B2', [formatted_prompt])\n\n# prompt를 영어로 번역\nprompt_english = translate_to_english(formatted_prompt)\n\n# 번역된 prompt를 구글 시트에 저장\nupdate_sheet('evaluation!C2', [prompt_english])\n\n# 자기소개서 작성\nresult = generate_cover_letter(prompt_english)\n\n# 작성된 자기소개서를 구글 시트에 저장\nupdate_sheet('evaluation!D2', [result])"]
  },
  {
   "cell_type": "code",
   "execution_count": null,
   "metadata": {},
   "outputs": [],
   "source": [""]
  },
  {
   "cell_type": "code",
   "execution_count": null,
   "metadata": {},
   "outputs": [],
   "source": [""]
  }
 ],
 "metadata": {
  "kernelspec": {
   "display_name": "jadongsoseol-oEGlMSa4-py3.11",
   "language": "python",
   "name": "python3"
  },
  "language_info": {
   "codemirror_mode": {
    "name": "ipython",
    "version": 3
   },
   "file_extension": ".py",
   "mimetype": "text/x-python",
   "name": "python",
   "nbconvert_exporter": "python",
   "pygments_lexer": "ipython3",
   "version": "3.11.9"
  }
 },
 "nbformat": 4,
 "nbformat_minor": 2
}
